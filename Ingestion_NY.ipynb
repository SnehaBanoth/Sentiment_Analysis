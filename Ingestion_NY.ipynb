{
 "cells": [
  {
   "cell_type": "code",
   "execution_count": 8,
   "metadata": {
    "colab": {},
    "colab_type": "code",
    "id": "5TM2Sw3Dy6jy"
   },
   "outputs": [],
   "source": [
    "from kafka import KafkaProducer\n",
    "from kafka import KafkaConsumer\n",
    "from kafka import KafkaClient, SimpleProducer\n",
    "from kafka.admin import KafkaAdminClient, NewTopic\n",
    "\n",
    "import sys\n",
    "\n",
    "from tweepy import OAuthHandler\n",
    "from tweepy import API\n",
    "from tweepy import Stream\n",
    "from tweepy.streaming import StreamListener\n",
    "\n",
    "import requests, json\n",
    "\n",
    "import tweepy \n",
    "import json"
   ]
  },
  {
   "cell_type": "code",
   "execution_count": 9,
   "metadata": {
    "colab": {},
    "colab_type": "code",
    "id": "3JFf1P3ny6j3"
   },
   "outputs": [],
   "source": [
    "ACCESS_TOKEN = '1190219954525736961-HY0tALnzDEHWm2KjrIdCfXi7a5sPJB'\n",
    "ACCESS_TOKEN_SECRET = 'ZzBPFHBfjGTCgWVP7GvbSucofjCKFbcS4zelu6jiAzt9u'\n",
    "CONSUMER_KEY = 'nVMEVdzRwWvsoT3uqzHzLvpGq'\n",
    "CONSUMER_SECRET = 'ZzwSbzC2yeo5daphnSRxQWe2f2Ytamf8boUX4jJ6nQ6gjF1K8n'"
   ]
  },
  {
   "cell_type": "code",
   "execution_count": 10,
   "metadata": {
    "colab": {},
    "colab_type": "code",
    "id": "Kr7CLjs6y6j6"
   },
   "outputs": [],
   "source": [
    "kafka = KafkaClient(\"34.90.212.110:9092\")\n",
    "producer = SimpleProducer(kafka)"
   ]
  },
  {
   "cell_type": "code",
   "execution_count": 11,
   "metadata": {
    "colab": {},
    "colab_type": "code",
    "id": "W0CzV212y6j9"
   },
   "outputs": [],
   "source": [
    "location = [-171.791110603, 18.91619, -66.96466, 71.3577635769]"
   ]
  },
  {
   "cell_type": "code",
   "execution_count": 20,
   "metadata": {
    "colab": {},
    "colab_type": "code",
    "id": "mh5wO0PWy6j_"
   },
   "outputs": [],
   "source": [
    "class StdOutListenerWeather(StreamListener):\n",
    "    \n",
    "    def on_data(self, status):\n",
    "        \n",
    "        tweets = json.loads(status)\n",
    "        \n",
    "        api_key = \"d475fd06a1edf8578676f78ac590607b\"\n",
    "        base_url = \"http://api.openweathermap.org/data/2.5/weather?\"\n",
    "        city_name = \"New York\"\n",
    "        complete_url = base_url + \"appid=\" + api_key + \"&q=\" + city_name\n",
    "        response = requests.get(complete_url)\n",
    "        weather = response.json()\n",
    "        \n",
    "        if tweets['geo'] is not None:\n",
    "            data = {\n",
    "                    'timestamp': tweets['created_at'], \n",
    "                    'id': tweets['id'], \n",
    "                    'tweet': tweets['text'],\n",
    "                    'city': city_name,\n",
    "                    'temperature': weather['main']['temp']- 272.15,\n",
    "                    'description': weather['weather'][0]['description']\n",
    "            }\n",
    "        \n",
    "            producer.send_messages(\"weather\", json.dumps(data).encode('utf-8'))\n",
    "        \n",
    "        return True\n",
    "    \n",
    "    def on_error(self, status):\n",
    "        print(status)\n",
    "        \n",
    "listener = StdOutListenerWeather()\n",
    "auth = OAuthHandler(CONSUMER_KEY, CONSUMER_SECRET)\n",
    "auth.set_access_token(ACCESS_TOKEN, ACCESS_TOKEN_SECRET)\n",
    "stream = Stream(auth, listener)"
   ]
  },
  {
   "cell_type": "code",
   "execution_count": 21,
   "metadata": {
    "colab": {},
    "colab_type": "code",
    "id": "z-gzow2Xy6kE",
    "outputId": "a2ab333d-fc62-4ab5-f81b-a70b03e247cc"
   },
   "outputs": [
    {
     "name": "stdout",
     "output_type": "stream",
     "text": [
      "Start streaming.\n",
      "Stopped.\n",
      "Done.\n"
     ]
    }
   ],
   "source": [
    "try:\n",
    "    print('Start streaming.')\n",
    "    stream.filter(locations=location, track=['NY', 'New York'],languages=['en'])\n",
    "except KeyboardInterrupt:\n",
    "    print(\"Stopped.\")\n",
    "finally:\n",
    "    print('Done.')\n",
    "    stream.disconnect()"
   ]
  }
 ],
 "metadata": {
  "colab": {
   "collapsed_sections": [],
   "name": "twitter_ingestion_NY.ipynb",
   "provenance": []
  },
  "kernelspec": {
   "display_name": "Python 3",
   "language": "python",
   "name": "python3"
  },
  "language_info": {
   "codemirror_mode": {
    "name": "ipython",
    "version": 3
   },
   "file_extension": ".py",
   "mimetype": "text/x-python",
   "name": "python",
   "nbconvert_exporter": "python",
   "pygments_lexer": "ipython3",
   "version": "3.7.3"
  }
 },
 "nbformat": 4,
 "nbformat_minor": 1
}
